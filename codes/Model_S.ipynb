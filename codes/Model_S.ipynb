{
 "cells": [
  {
   "cell_type": "code",
   "execution_count": 477,
   "id": "5f8a0b31",
   "metadata": {},
   "outputs": [],
   "source": [
    "import pandas as pd\n",
    "import matplotlib.pyplot as plt\n",
    "import numpy as np\n",
    "\n",
    "depression_us=pd.read_csv(\"../data/depression_us_vcl.csv\",index_col=[0])"
   ]
  },
  {
   "cell_type": "code",
   "execution_count": 478,
   "id": "34489992",
   "metadata": {},
   "outputs": [
    {
     "data": {
      "text/plain": [
       "['TIPI1',\n",
       " 'TIPI2',\n",
       " 'TIPI3',\n",
       " 'TIPI4',\n",
       " 'TIPI5',\n",
       " 'TIPI6',\n",
       " 'TIPI7',\n",
       " 'TIPI8',\n",
       " 'TIPI9',\n",
       " 'TIPI10',\n",
       " 'education',\n",
       " 'urban',\n",
       " 'gender',\n",
       " 'age',\n",
       " 'religion',\n",
       " 'orientation',\n",
       " 'race',\n",
       " 'married',\n",
       " 'familysize',\n",
       " 'VCL',\n",
       " 'target']"
      ]
     },
     "execution_count": 478,
     "metadata": {},
     "output_type": "execute_result"
    }
   ],
   "source": [
    "depression_us.select_dtypes(include=np.number).columns.tolist()"
   ]
  },
  {
   "cell_type": "code",
   "execution_count": 479,
   "id": "85ebb33c",
   "metadata": {},
   "outputs": [
    {
     "data": {
      "text/html": [
       "<div>\n",
       "<style scoped>\n",
       "    .dataframe tbody tr th:only-of-type {\n",
       "        vertical-align: middle;\n",
       "    }\n",
       "\n",
       "    .dataframe tbody tr th {\n",
       "        vertical-align: top;\n",
       "    }\n",
       "\n",
       "    .dataframe thead th {\n",
       "        text-align: right;\n",
       "    }\n",
       "</style>\n",
       "<table border=\"1\" class=\"dataframe\">\n",
       "  <thead>\n",
       "    <tr style=\"text-align: right;\">\n",
       "      <th></th>\n",
       "      <th>TIPI1</th>\n",
       "      <th>TIPI2</th>\n",
       "      <th>TIPI3</th>\n",
       "      <th>TIPI4</th>\n",
       "      <th>TIPI5</th>\n",
       "      <th>TIPI6</th>\n",
       "      <th>TIPI7</th>\n",
       "      <th>TIPI8</th>\n",
       "      <th>TIPI9</th>\n",
       "      <th>TIPI10</th>\n",
       "      <th>...</th>\n",
       "      <th>gender</th>\n",
       "      <th>age</th>\n",
       "      <th>religion</th>\n",
       "      <th>orientation</th>\n",
       "      <th>race</th>\n",
       "      <th>married</th>\n",
       "      <th>familysize</th>\n",
       "      <th>VCL</th>\n",
       "      <th>Condition</th>\n",
       "      <th>target</th>\n",
       "    </tr>\n",
       "  </thead>\n",
       "  <tbody>\n",
       "    <tr>\n",
       "      <th>1</th>\n",
       "      <td>6</td>\n",
       "      <td>5</td>\n",
       "      <td>4</td>\n",
       "      <td>7</td>\n",
       "      <td>5</td>\n",
       "      <td>4</td>\n",
       "      <td>7</td>\n",
       "      <td>7</td>\n",
       "      <td>1</td>\n",
       "      <td>5</td>\n",
       "      <td>...</td>\n",
       "      <td>2</td>\n",
       "      <td>16</td>\n",
       "      <td>7</td>\n",
       "      <td>0</td>\n",
       "      <td>70</td>\n",
       "      <td>1</td>\n",
       "      <td>4</td>\n",
       "      <td>8</td>\n",
       "      <td>Severe</td>\n",
       "      <td>4</td>\n",
       "    </tr>\n",
       "    <tr>\n",
       "      <th>3</th>\n",
       "      <td>1</td>\n",
       "      <td>1</td>\n",
       "      <td>7</td>\n",
       "      <td>4</td>\n",
       "      <td>6</td>\n",
       "      <td>4</td>\n",
       "      <td>6</td>\n",
       "      <td>1</td>\n",
       "      <td>6</td>\n",
       "      <td>1</td>\n",
       "      <td>...</td>\n",
       "      <td>2</td>\n",
       "      <td>13</td>\n",
       "      <td>4</td>\n",
       "      <td>5</td>\n",
       "      <td>70</td>\n",
       "      <td>1</td>\n",
       "      <td>5</td>\n",
       "      <td>7</td>\n",
       "      <td>Moderate</td>\n",
       "      <td>2</td>\n",
       "    </tr>\n",
       "    <tr>\n",
       "      <th>5</th>\n",
       "      <td>2</td>\n",
       "      <td>1</td>\n",
       "      <td>6</td>\n",
       "      <td>1</td>\n",
       "      <td>7</td>\n",
       "      <td>7</td>\n",
       "      <td>7</td>\n",
       "      <td>2</td>\n",
       "      <td>6</td>\n",
       "      <td>7</td>\n",
       "      <td>...</td>\n",
       "      <td>2</td>\n",
       "      <td>20</td>\n",
       "      <td>4</td>\n",
       "      <td>1</td>\n",
       "      <td>70</td>\n",
       "      <td>1</td>\n",
       "      <td>4</td>\n",
       "      <td>7</td>\n",
       "      <td>Mild</td>\n",
       "      <td>1</td>\n",
       "    </tr>\n",
       "    <tr>\n",
       "      <th>8</th>\n",
       "      <td>1</td>\n",
       "      <td>4</td>\n",
       "      <td>5</td>\n",
       "      <td>7</td>\n",
       "      <td>5</td>\n",
       "      <td>7</td>\n",
       "      <td>6</td>\n",
       "      <td>7</td>\n",
       "      <td>1</td>\n",
       "      <td>4</td>\n",
       "      <td>...</td>\n",
       "      <td>1</td>\n",
       "      <td>16</td>\n",
       "      <td>12</td>\n",
       "      <td>2</td>\n",
       "      <td>70</td>\n",
       "      <td>1</td>\n",
       "      <td>4</td>\n",
       "      <td>8</td>\n",
       "      <td>Extremely Severe</td>\n",
       "      <td>0</td>\n",
       "    </tr>\n",
       "    <tr>\n",
       "      <th>10</th>\n",
       "      <td>5</td>\n",
       "      <td>3</td>\n",
       "      <td>6</td>\n",
       "      <td>6</td>\n",
       "      <td>3</td>\n",
       "      <td>4</td>\n",
       "      <td>4</td>\n",
       "      <td>7</td>\n",
       "      <td>5</td>\n",
       "      <td>7</td>\n",
       "      <td>...</td>\n",
       "      <td>1</td>\n",
       "      <td>15</td>\n",
       "      <td>6</td>\n",
       "      <td>1</td>\n",
       "      <td>60</td>\n",
       "      <td>1</td>\n",
       "      <td>1</td>\n",
       "      <td>5</td>\n",
       "      <td>Moderate</td>\n",
       "      <td>2</td>\n",
       "    </tr>\n",
       "  </tbody>\n",
       "</table>\n",
       "<p>5 rows × 22 columns</p>\n",
       "</div>"
      ],
      "text/plain": [
       "    TIPI1  TIPI2  TIPI3  TIPI4  TIPI5  TIPI6  TIPI7  TIPI8  TIPI9  TIPI10  \\\n",
       "1       6      5      4      7      5      4      7      7      1       5   \n",
       "3       1      1      7      4      6      4      6      1      6       1   \n",
       "5       2      1      6      1      7      7      7      2      6       7   \n",
       "8       1      4      5      7      5      7      6      7      1       4   \n",
       "10      5      3      6      6      3      4      4      7      5       7   \n",
       "\n",
       "    ...  gender  age  religion  orientation  race  married  familysize  VCL  \\\n",
       "1   ...       2   16         7            0    70        1           4    8   \n",
       "3   ...       2   13         4            5    70        1           5    7   \n",
       "5   ...       2   20         4            1    70        1           4    7   \n",
       "8   ...       1   16        12            2    70        1           4    8   \n",
       "10  ...       1   15         6            1    60        1           1    5   \n",
       "\n",
       "           Condition  target  \n",
       "1             Severe       4  \n",
       "3           Moderate       2  \n",
       "5               Mild       1  \n",
       "8   Extremely Severe       0  \n",
       "10          Moderate       2  \n",
       "\n",
       "[5 rows x 22 columns]"
      ]
     },
     "execution_count": 479,
     "metadata": {},
     "output_type": "execute_result"
    }
   ],
   "source": [
    "depression_us.head()"
   ]
  },
  {
   "cell_type": "code",
   "execution_count": 480,
   "id": "68f4cda0",
   "metadata": {},
   "outputs": [],
   "source": [
    "# from sklearn.utils import resample\n",
    "# target_0 = depression_us[depression_us['target'] ==0]\n",
    "# target_1 = depression_us[depression_us['target'] ==1]\n",
    "# target_2 = depression_us[depression_us['target'] ==2]\n",
    "# target_3 = depression_us[depression_us['target'] ==3]\n",
    "# target_4 = depression_us[depression_us['target'] ==4]\n",
    "\n",
    "# target_0 = resample(target_0, \n",
    "#                     replace=True,     # sample with replacement\n",
    "#                     n_samples=1500,    # to match majority class\n",
    "#                     random_state=88)\n",
    "# # Upsample minority class\n",
    "# target_1 = resample(target_1, \n",
    "#                     replace=True,     # sample with replacement\n",
    "#                     n_samples=1500,    # to match majority class\n",
    "#                     random_state=88)\n",
    "\n",
    "# depression_us = pd.concat([target_0, target_1,target_2,target_3,target_4])"
   ]
  },
  {
   "cell_type": "code",
   "execution_count": 481,
   "id": "e7f53117",
   "metadata": {},
   "outputs": [
    {
     "data": {
      "text/plain": [
       "0    3117\n",
       "3    1736\n",
       "2    1386\n",
       "4    1287\n",
       "1     678\n",
       "Name: target, dtype: int64"
      ]
     },
     "execution_count": 481,
     "metadata": {},
     "output_type": "execute_result"
    }
   ],
   "source": [
    "depression_us['target'].value_counts()"
   ]
  },
  {
   "cell_type": "code",
   "execution_count": 482,
   "id": "819adf42",
   "metadata": {},
   "outputs": [
    {
     "name": "stderr",
     "output_type": "stream",
     "text": [
      "C:\\Users\\sonal\\AppData\\Local\\Temp/ipykernel_21840/3465955215.py:2: FutureWarning: Boolean inputs to the `inclusive` argument are deprecated infavour of `both` or `neither`.\n",
      "  depression_us['target'].between(-1, 3, inclusive=False),\n"
     ]
    }
   ],
   "source": [
    "depression_us['target'] = np.where(\n",
    "     depression_us['target'].between(-1, 3, inclusive=False), \n",
    "    0, \n",
    "      1\n",
    ")"
   ]
  },
  {
   "cell_type": "code",
   "execution_count": 483,
   "id": "89709c31",
   "metadata": {},
   "outputs": [
    {
     "data": {
      "text/plain": [
       "0    5181\n",
       "1    3023\n",
       "Name: target, dtype: int64"
      ]
     },
     "execution_count": 483,
     "metadata": {},
     "output_type": "execute_result"
    }
   ],
   "source": [
    "depression_us['target'].value_counts()"
   ]
  },
  {
   "cell_type": "code",
   "execution_count": 484,
   "id": "55f26ab1",
   "metadata": {},
   "outputs": [],
   "source": [
    "# label = 'target'\n",
    "# groups = depression_us.groupby(label, group_keys=False)\n",
    "# depression_us = pd.DataFrame(groups.apply(lambda x: \n",
    "# x.sample(groups.size().min()))).reset_index(drop=True)"
   ]
  },
  {
   "cell_type": "code",
   "execution_count": 485,
   "id": "14f5e683",
   "metadata": {},
   "outputs": [],
   "source": [
    "#cols = ['TIPI1','TIPI2','TIPI3','TIPI4','TIPI5','TIPI6','TIPI7','TIPI8','TIPI9','TIPI10']\n",
    "#depression_us[cols] = depression_us[cols].astype('category')"
   ]
  },
  {
   "cell_type": "code",
   "execution_count": 486,
   "id": "1737c0c2",
   "metadata": {},
   "outputs": [],
   "source": [
    "depression_us['personality']=(depression_us['TIPI2']+\n",
    "                                depression_us['TIPI4']+\n",
    "                                depression_us['TIPI6']+\n",
    "                                depression_us['TIPI8']+\n",
    "                                depression_us['TIPI10']-\n",
    "                                depression_us['TIPI1']-\n",
    "                                depression_us['TIPI3']-\n",
    "                                depression_us['TIPI5']-\n",
    "                                depression_us['TIPI7']-\n",
    "                                depression_us['TIPI9'])"
   ]
  },
  {
   "cell_type": "code",
   "execution_count": 487,
   "id": "ccb6cb94",
   "metadata": {},
   "outputs": [
    {
     "data": {
      "text/html": [
       "<div>\n",
       "<style scoped>\n",
       "    .dataframe tbody tr th:only-of-type {\n",
       "        vertical-align: middle;\n",
       "    }\n",
       "\n",
       "    .dataframe tbody tr th {\n",
       "        vertical-align: top;\n",
       "    }\n",
       "\n",
       "    .dataframe thead th {\n",
       "        text-align: right;\n",
       "    }\n",
       "</style>\n",
       "<table border=\"1\" class=\"dataframe\">\n",
       "  <thead>\n",
       "    <tr style=\"text-align: right;\">\n",
       "      <th></th>\n",
       "      <th>AgeBand</th>\n",
       "      <th>target</th>\n",
       "    </tr>\n",
       "  </thead>\n",
       "  <tbody>\n",
       "    <tr>\n",
       "      <th>0</th>\n",
       "      <td>(12.931, 30.25]</td>\n",
       "      <td>0.350844</td>\n",
       "    </tr>\n",
       "    <tr>\n",
       "      <th>1</th>\n",
       "      <td>(30.25, 47.5]</td>\n",
       "      <td>0.420175</td>\n",
       "    </tr>\n",
       "    <tr>\n",
       "      <th>2</th>\n",
       "      <td>(47.5, 64.75]</td>\n",
       "      <td>0.434412</td>\n",
       "    </tr>\n",
       "    <tr>\n",
       "      <th>3</th>\n",
       "      <td>(64.75, 82.0]</td>\n",
       "      <td>0.555556</td>\n",
       "    </tr>\n",
       "  </tbody>\n",
       "</table>\n",
       "</div>"
      ],
      "text/plain": [
       "           AgeBand    target\n",
       "0  (12.931, 30.25]  0.350844\n",
       "1    (30.25, 47.5]  0.420175\n",
       "2    (47.5, 64.75]  0.434412\n",
       "3    (64.75, 82.0]  0.555556"
      ]
     },
     "execution_count": 487,
     "metadata": {},
     "output_type": "execute_result"
    }
   ],
   "source": [
    "depression_us['AgeBand'] = pd.cut(depression_us['age'], 4)\n",
    "depression_us[['AgeBand','target']].groupby(['AgeBand'], as_index=False).mean().sort_values(by='AgeBand', ascending=True)\n"
   ]
  },
  {
   "cell_type": "code",
   "execution_count": 488,
   "id": "ec3edb34",
   "metadata": {},
   "outputs": [],
   "source": [
    "depression_us['AgeBand']=0\n",
    "depression_us.loc[(depression_us['age']>12) & (depression_us['age']<= 31),'AgeBand'] = 3\n",
    "depression_us.loc[(depression_us['age']>31) & (depression_us['age']<= 48),'AgeBand'] = 2\n",
    "depression_us.loc[(depression_us['age']>48) & (depression_us['age']<= 65),'AgeBand'] = 1\n",
    "depression_us.loc[depression_us['age']>65,'AgeBand']=0"
   ]
  },
  {
   "cell_type": "code",
   "execution_count": 489,
   "id": "5ed35c3d",
   "metadata": {},
   "outputs": [],
   "source": [
    "multi_cols=['education', 'urban', 'gender', 'religion', 'orientation',\n",
    "       'race', 'married','AgeBand']\n",
    "\n",
    "\n",
    "#Duplicating columns for multi value columns\n",
    "depression_us = pd.get_dummies(data = depression_us, columns = multi_cols)\n",
    "\n"
   ]
  },
  {
   "cell_type": "code",
   "execution_count": 490,
   "id": "bee38ed0",
   "metadata": {},
   "outputs": [],
   "source": [
    "depression_us.drop(['Condition','TIPI1','TIPI2','TIPI3','TIPI4','TIPI5','TIPI6','TIPI7','TIPI8','TIPI9','TIPI10','age'],axis=1,inplace=True)"
   ]
  },
  {
   "cell_type": "code",
   "execution_count": 491,
   "id": "668fae67",
   "metadata": {},
   "outputs": [],
   "source": [
    "#depression_us=depression_us.drop(depression_us.columns[0], axis=1)"
   ]
  },
  {
   "cell_type": "code",
   "execution_count": 492,
   "id": "0b736d66",
   "metadata": {},
   "outputs": [],
   "source": [
    "depression_targets=depression_us['target']\n",
    "depression_targets=depression_targets.astype('category')\n",
    "depression_us.drop('target',axis=1,inplace=True)"
   ]
  },
  {
   "cell_type": "code",
   "execution_count": 493,
   "id": "99adf04c",
   "metadata": {},
   "outputs": [],
   "source": [
    "# INSERT CODE HERE\n",
    "import numpy as np\n",
    "#Finding the mean and standard deviation of x and normalizing train x \n",
    "u_x_vcl = np.mean(depression_us['VCL'])\n",
    "sigma_x_vcl = np.std(depression_us['VCL'])\n",
    "depression_us['VCL'] = (depression_us['VCL'] - u_x_vcl)/sigma_x_vcl\n",
    "\n",
    "#Finding the mean and standard deviation of y and normalizing train y \n",
    "u_x_familysize = np.mean(depression_us['familysize'])\n",
    "sigma_x_familysize = np.std(depression_us['familysize'])\n",
    "depression_us['familysize'] = (depression_us['familysize'] - u_x_familysize)/sigma_x_familysize"
   ]
  },
  {
   "cell_type": "code",
   "execution_count": 494,
   "id": "955cb273",
   "metadata": {},
   "outputs": [],
   "source": [
    "from enum import unique\n",
    "import pandas as pd\n",
    "import numpy as np\n",
    "import matplotlib.pyplot as plt\n",
    "import seaborn as sns\n",
    "\n",
    "import warnings\n",
    "from sklearn.model_selection import cross_val_score\n",
    "from sklearn.linear_model import Ridge, Lasso, LogisticRegression\n",
    "from sklearn.tree import DecisionTreeRegressor\n",
    "from sklearn.ensemble import GradientBoostingRegressor, BaggingRegressor, RandomForestRegressor, StackingRegressor\n",
    "from xgboost import XGBRegressor\n",
    "# from lightgbm import LGBMRegressor\n",
    "from sklearn.model_selection import train_test_split\n",
    "\n",
    "X_train, X_test, y_train, y_test = train_test_split(depression_us,depression_targets, test_size=0.25)"
   ]
  },
  {
   "cell_type": "code",
   "execution_count": 495,
   "id": "fdf132ae",
   "metadata": {},
   "outputs": [],
   "source": [
    "lr = LogisticRegression(multi_class='ovr',solver='liblinear',penalty='l1')\n",
    "pred_lr = lr.fit(X_train, y_train).predict(X_test)\n",
    "\n",
    "# Checking Model Metrics\n",
    "# from sklearn.metrics import r2_score, mean_squared_error\n",
    "# print(\"R2 Score: \", r2_score(y_test, pred_lr))\n",
    "# print(\"RMSE: \", np.sqrt(mean_squared_error(y_test, pred_lr)))"
   ]
  },
  {
   "cell_type": "code",
   "execution_count": 496,
   "id": "a49b9897",
   "metadata": {},
   "outputs": [
    {
     "name": "stdout",
     "output_type": "stream",
     "text": [
      "              precision    recall  f1-score   support\n",
      "\n",
      "           0       0.70      0.86      0.77      1323\n",
      "           1       0.56      0.32      0.41       728\n",
      "\n",
      "    accuracy                           0.67      2051\n",
      "   macro avg       0.63      0.59      0.59      2051\n",
      "weighted avg       0.65      0.67      0.64      2051\n",
      "\n"
     ]
    }
   ],
   "source": [
    "from sklearn.metrics import classification_report\n",
    "\n",
    "print(classification_report(y_test, pred_lr))"
   ]
  },
  {
   "cell_type": "code",
   "execution_count": 497,
   "id": "de22cadd",
   "metadata": {},
   "outputs": [],
   "source": [
    "from sklearn.tree import DecisionTreeClassifier\n",
    "\n",
    "dt = DecisionTreeClassifier(splitter='best')\n",
    "\n",
    "pred_dt = dt.fit(X_train, y_train).predict(X_test)"
   ]
  },
  {
   "cell_type": "code",
   "execution_count": 498,
   "id": "008c7f9b",
   "metadata": {},
   "outputs": [
    {
     "name": "stdout",
     "output_type": "stream",
     "text": [
      "              precision    recall  f1-score   support\n",
      "\n",
      "           0       0.67      0.66      0.66      1323\n",
      "           1       0.40      0.42      0.41       728\n",
      "\n",
      "    accuracy                           0.57      2051\n",
      "   macro avg       0.54      0.54      0.54      2051\n",
      "weighted avg       0.58      0.57      0.57      2051\n",
      "\n"
     ]
    }
   ],
   "source": [
    "from sklearn.metrics import classification_report\n",
    "\n",
    "print(classification_report(y_test, pred_dt))"
   ]
  },
  {
   "cell_type": "code",
   "execution_count": 499,
   "id": "67841433",
   "metadata": {},
   "outputs": [],
   "source": [
    "from sklearn.ensemble import AdaBoostClassifier"
   ]
  },
  {
   "cell_type": "code",
   "execution_count": 500,
   "id": "f0983a46",
   "metadata": {},
   "outputs": [
    {
     "data": {
      "text/plain": [
       "{'algorithm': 'SAMME.R',\n",
       " 'base_estimator': None,\n",
       " 'learning_rate': 0.01,\n",
       " 'n_estimators': 5000,\n",
       " 'random_state': None}"
      ]
     },
     "execution_count": 500,
     "metadata": {},
     "output_type": "execute_result"
    }
   ],
   "source": [
    "ada_clf_g11 = AdaBoostClassifier(n_estimators=5000,learning_rate=0.01)\n",
    "ada_clf_g11.get_params()"
   ]
  },
  {
   "cell_type": "code",
   "execution_count": 501,
   "id": "478db255",
   "metadata": {},
   "outputs": [],
   "source": [
    "ada_fit_g11 = ada_clf_g11.fit(X_train, y_train)"
   ]
  },
  {
   "cell_type": "code",
   "execution_count": 502,
   "id": "e723da6c",
   "metadata": {},
   "outputs": [],
   "source": [
    "OSIy_pred_g11 = ada_fit_g11.predict(X_test)"
   ]
  },
  {
   "cell_type": "code",
   "execution_count": 503,
   "id": "7d542b67",
   "metadata": {},
   "outputs": [
    {
     "name": "stdout",
     "output_type": "stream",
     "text": [
      "              precision    recall  f1-score   support\n",
      "\n",
      "           0       0.69      0.88      0.77      1323\n",
      "           1       0.56      0.28      0.37       728\n",
      "\n",
      "    accuracy                           0.67      2051\n",
      "   macro avg       0.62      0.58      0.57      2051\n",
      "weighted avg       0.64      0.67      0.63      2051\n",
      "\n"
     ]
    }
   ],
   "source": [
    "print(classification_report(y_test, OSIy_pred_g11))"
   ]
  },
  {
   "cell_type": "code",
   "execution_count": 504,
   "id": "c679e0d2",
   "metadata": {},
   "outputs": [],
   "source": [
    "import xgboost as xgb"
   ]
  },
  {
   "cell_type": "code",
   "execution_count": 505,
   "id": "8ea526b5",
   "metadata": {},
   "outputs": [],
   "source": [
    "xgb_clf_g11 = xgb.XGBClassifier(n_estimators=5000,\n",
    "                                learning_rate = 0.2,\n",
    "                                gamma=1)"
   ]
  },
  {
   "cell_type": "code",
   "execution_count": 506,
   "id": "5a725eaa",
   "metadata": {},
   "outputs": [],
   "source": [
    "xgb_fit_g11 = xgb_clf_g11.fit(X_train, y_train)"
   ]
  },
  {
   "cell_type": "code",
   "execution_count": 507,
   "id": "bf854828",
   "metadata": {},
   "outputs": [],
   "source": [
    "OSIy_xgb_pred_g11 = xgb_fit_g11.predict(X_test)"
   ]
  },
  {
   "cell_type": "code",
   "execution_count": 508,
   "id": "3bb36a74",
   "metadata": {},
   "outputs": [
    {
     "name": "stdout",
     "output_type": "stream",
     "text": [
      "              precision    recall  f1-score   support\n",
      "\n",
      "           0       0.69      0.84      0.76      1323\n",
      "           1       0.51      0.31      0.39       728\n",
      "\n",
      "    accuracy                           0.65      2051\n",
      "   macro avg       0.60      0.57      0.57      2051\n",
      "weighted avg       0.63      0.65      0.62      2051\n",
      "\n"
     ]
    }
   ],
   "source": [
    "print(classification_report(y_test, OSIy_xgb_pred_g11))"
   ]
  },
  {
   "cell_type": "code",
   "execution_count": 509,
   "id": "8364fa0d",
   "metadata": {},
   "outputs": [],
   "source": [
    "from sklearn.ensemble import RandomForestClassifier"
   ]
  },
  {
   "cell_type": "code",
   "execution_count": 510,
   "id": "38af8e12",
   "metadata": {},
   "outputs": [],
   "source": [
    "rfc = RandomForestClassifier(n_jobs=-1, random_state=10, oob_score=True)"
   ]
  },
  {
   "cell_type": "code",
   "execution_count": 511,
   "id": "d1a32ad1",
   "metadata": {},
   "outputs": [],
   "source": [
    "xgb_fit_g11 = rfc.fit(X_train, y_train)\n",
    "OSIy_xgb_pred_g11 = xgb_fit_g11.predict(X_test)"
   ]
  },
  {
   "cell_type": "code",
   "execution_count": 512,
   "id": "1059cd1c",
   "metadata": {},
   "outputs": [
    {
     "name": "stdout",
     "output_type": "stream",
     "text": [
      "              precision    recall  f1-score   support\n",
      "\n",
      "           0       0.70      0.82      0.76      1323\n",
      "           1       0.53      0.37      0.44       728\n",
      "\n",
      "    accuracy                           0.66      2051\n",
      "   macro avg       0.62      0.60      0.60      2051\n",
      "weighted avg       0.64      0.66      0.64      2051\n",
      "\n"
     ]
    }
   ],
   "source": [
    "print(classification_report(y_test, OSIy_xgb_pred_g11))"
   ]
  },
  {
   "cell_type": "code",
   "execution_count": 513,
   "id": "313f8e17",
   "metadata": {},
   "outputs": [
    {
     "name": "stdout",
     "output_type": "stream",
     "text": [
      "              precision    recall  f1-score   support\n",
      "\n",
      "           0       0.69      0.87      0.77      1323\n",
      "           1       0.56      0.30      0.39       728\n",
      "\n",
      "    accuracy                           0.67      2051\n",
      "   macro avg       0.63      0.59      0.58      2051\n",
      "weighted avg       0.65      0.67      0.64      2051\n",
      "\n"
     ]
    }
   ],
   "source": [
    "from sklearn.linear_model import RidgeClassifier\n",
    "clf = RidgeClassifier().fit(X_train, y_train).predict(X_test)\n",
    "print(classification_report(y_test, clf))"
   ]
  }
 ],
 "metadata": {
  "kernelspec": {
   "display_name": "Python 3.9.7 ('base')",
   "language": "python",
   "name": "python3"
  },
  "language_info": {
   "codemirror_mode": {
    "name": "ipython",
    "version": 3
   },
   "file_extension": ".py",
   "mimetype": "text/x-python",
   "name": "python",
   "nbconvert_exporter": "python",
   "pygments_lexer": "ipython3",
   "version": "3.9.7"
  },
  "vscode": {
   "interpreter": {
    "hash": "369a4fc5e93a3ff1d9dc933225134c472905f2caa775dbbe856894f670107faa"
   }
  }
 },
 "nbformat": 4,
 "nbformat_minor": 5
}
